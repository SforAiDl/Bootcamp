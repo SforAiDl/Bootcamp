{
  "nbformat": 4,
  "nbformat_minor": 0,
  "metadata": {
    "colab": {
      "name": "OOP Basics.ipynb",
      "provenance": [],
      "collapsed_sections": []
    },
    "kernelspec": {
      "name": "python3",
      "display_name": "Python 3"
    }
  },
  "cells": [
    {
      "cell_type": "markdown",
      "metadata": {
        "id": "UZg08sbcx57o",
        "colab_type": "text"
      },
      "source": [
        "## Classes and Objects"
      ]
    },
    {
      "cell_type": "markdown",
      "metadata": {
        "id": "30hz56xYuvgT",
        "colab_type": "text"
      },
      "source": [
        "**Classes**\" and \"**objects**\" are words that are often used interchangeably, but they're not really the same thing. \n"
      ]
    },
    {
      "cell_type": "markdown",
      "metadata": {
        "id": "BQiJtl-xu0un",
        "colab_type": "text"
      },
      "source": [
        "**Classes** are like the Blueprint for objects.\n"
      ]
    },
    {
      "cell_type": "markdown",
      "metadata": {
        "id": "OSblVyHkvj8-",
        "colab_type": "text"
      },
      "source": [
        "When I define a class called *Customer*, I haven't actually created a *Customer*.\n"
      ]
    },
    {
      "cell_type": "markdown",
      "metadata": {
        "id": "hkb-vpOzvmV0",
        "colab_type": "text"
      },
      "source": [
        "Instead, I have just given a set of instructions for creating *Customer* objects.The actions that can be performed by objects becomes functions of the class and is referred to as Methods."
      ]
    },
    {
      "cell_type": "code",
      "metadata": {
        "id": "FZre_0vYvh-H",
        "colab_type": "code",
        "colab": {}
      },
      "source": [
        "class Customer(object):\n",
        "    \"\"\"A customer of ABC Bank with a checking account. Customers have the\n",
        "    following properties:\n",
        "\n",
        "    Attributes:\n",
        "        name: A string representing the customer's name.\n",
        "        balance: A float tracking the current balance of the customer's account.\n",
        "    \"\"\"\n",
        "\n",
        "    def __init__(self, name, balance=0.0):\n",
        "        \"\"\"Return a Customer object whose name is *name* and starting\n",
        "        balance is *balance*.\"\"\"\n",
        "        self.name = name\n",
        "        self.balance = balance\n",
        "\n",
        "    def withdraw(self, amount):\n",
        "        \"\"\"Return the balance remaining after withdrawing *amount*\n",
        "        dollars.\"\"\"\n",
        "        if amount > self.balance:\n",
        "            raise RuntimeError('Amount greater than available balance.')\n",
        "        self.balance -= amount\n",
        "        return self.balance\n",
        "\n",
        "    def deposit(self, amount):\n",
        "        \"\"\"Return the balance remaining after depositing *amount*\n",
        "        dollars.\"\"\"\n",
        "        self.balance += amount\n",
        "        return self.balance\n",
        "  "
      ],
      "execution_count": 0,
      "outputs": []
    },
    {
      "cell_type": "markdown",
      "metadata": {
        "id": "sCLnq35xySjW",
        "colab_type": "text"
      },
      "source": [
        "![alt text](https://)**Objects**-An object represents a particular instance of a class."
      ]
    },
    {
      "cell_type": "markdown",
      "metadata": {
        "id": "R9DK1wYSynBg",
        "colab_type": "text"
      },
      "source": [
        "No memory is allocated when a class is created. Memory is\n",
        "allocated only when an object is created, i.e., when an instance of a class is created."
      ]
    },
    {
      "cell_type": "markdown",
      "metadata": {
        "id": "locNsnxyy0lS",
        "colab_type": "text"
      },
      "source": [
        "For example consider we have a Class of Students under which Ayush, Aditya and Saura represents individual objects. In this context each Students Object will have its own, ID Number,Year of joining, CGPA, Branch etc.,which form Properties of the Student class"
      ]
    },
    {
      "cell_type": "code",
      "metadata": {
        "id": "PNnETiNsyyeP",
        "colab_type": "code",
        "colab": {}
      },
      "source": [
        "x=Customer(\"Ayush\",20000)\n",
        "#x is an instance of the Customer class"
      ],
      "execution_count": 0,
      "outputs": []
    },
    {
      "cell_type": "markdown",
      "metadata": {
        "id": "4o806yra1KEb",
        "colab_type": "text"
      },
      "source": [
        "# **self and __init__**"
      ]
    },
    {
      "cell_type": "code",
      "metadata": {
        "id": "fbccx4Rh1EPt",
        "colab_type": "code",
        "outputId": "7f80e5cf-7fbc-4d3f-aa55-853261628bab",
        "colab": {
          "base_uri": "https://localhost:8080/",
          "height": 36
        }
      },
      "source": [
        "x.deposit(2000)\n",
        "#calling x.withdraw puts instructions of withdraw function in class Customer on x"
      ],
      "execution_count": 0,
      "outputs": [
        {
          "output_type": "execute_result",
          "data": {
            "text/plain": [
              "22000"
            ]
          },
          "metadata": {
            "tags": []
          },
          "execution_count": 3
        }
      ]
    },
    {
      "cell_type": "markdown",
      "metadata": {
        "id": "nG0OynPd2Ink",
        "colab_type": "text"
      },
      "source": [
        "*self* is basically an instance of the Customer that deposit is being called on.\n",
        "So,in this case self is x i.e the instance we named"
      ]
    },
    {
      "cell_type": "markdown",
      "metadata": {
        "id": "M7ZaBL2e2wjR",
        "colab_type": "text"
      },
      "source": [
        "When we call __init__, we initialize objects by saying things like self.name = name. Remember, since self is the instance, this is equivalent to saying x.name = name, which is the same as x.name = 'Ayush'. Similarly, self.balance = balance is the same as x.balance = 20000. After these two lines, we consider the Customer object \"initialized\" and ready for use."
      ]
    },
    {
      "cell_type": "markdown",
      "metadata": {
        "id": "ZCCxdP7l5lvZ",
        "colab_type": "text"
      },
      "source": [
        "# Inheritance and Abstract Classes"
      ]
    },
    {
      "cell_type": "markdown",
      "metadata": {
        "id": "2UVvIlN15v-k",
        "colab_type": "text"
      },
      "source": [
        "Inheritance: Deriving a new class from the existing class,is called Inheritance.\n",
        "Derived(sub class) class is getting all the features from Existing (super class\\base class) class and also incorporating some new features to the sub class."
      ]
    },
    {
      "cell_type": "markdown",
      "metadata": {
        "id": "3IaHvEIV554o",
        "colab_type": "text"
      },
      "source": [
        "Abstraction: Abstraction means showing essential features and hiding non-essential features to the user."
      ]
    },
    {
      "cell_type": "markdown",
      "metadata": {
        "id": "ONnuKIOU6Ky5",
        "colab_type": "text"
      },
      "source": [
        "A Student is not a real-world object. Rather, it is a concept that some real-world objects (like Ayush, You, and Me) embody. We would like to use the fact that each of these objects can be considered a Student to remove repeated code. We can do that by creating a Student class:\n",
        "\n"
      ]
    },
    {
      "cell_type": "code",
      "metadata": {
        "id": "kd7I8wsK1v79",
        "colab_type": "code",
        "colab": {}
      },
      "source": [
        "class Student(object):\n",
        "    \"\"\"A Student studying at BITS\n",
        "\n",
        "    Attributes:\n",
        "      Name: A string represnting the name of the student\n",
        "      BITS_ID_no: A string representing the unique BITS id\n",
        "      Branch: A string represtnting the branch code of a student\n",
        "      Year of joining: A string representing the Year of joining\n",
        "      Campus: A string representing the first letter of the campus\n",
        "    \"\"\"\n",
        "\n",
        "\n",
        "    def __init__(self, name,bits_id,branch,year_of_joining,campus):\n",
        "        \n",
        "        self.name=name\n",
        "        self.bits_id=bits_id\n",
        "        self.branch=branch\n",
        "        self.year_of_joining=year_of_joining\n",
        "        self.campus=campus\n",
        "        \n",
        "    def Generate_ID_number(self):\n",
        "        \"\"\"Return the ID no for this studnt as a string.\"\"\"\n",
        "        BITS_ID=self.year_of_joining+self.branch+\"PS\"+self.bits_id+self.campus\n",
        "        return BITS_ID\n"
      ],
      "execution_count": 0,
      "outputs": []
    },
    {
      "cell_type": "code",
      "metadata": {
        "id": "Q9yL304F8GOl",
        "colab_type": "code",
        "colab": {}
      },
      "source": [
        "z=Student(\"Ayush\",\"0684\",\"B5\",\"2018\",\"G\")"
      ],
      "execution_count": 0,
      "outputs": []
    },
    {
      "cell_type": "code",
      "metadata": {
        "id": "v9W9N3X18W16",
        "colab_type": "code",
        "outputId": "ad2bb256-7268-45b0-feb0-72a41bbc7b96",
        "colab": {
          "base_uri": "https://localhost:8080/",
          "height": 34
        }
      },
      "source": [
        "z.Generate_ID_number()"
      ],
      "execution_count": 0,
      "outputs": [
        {
          "output_type": "execute_result",
          "data": {
            "text/plain": [
              "'2018B5PS0684G'"
            ]
          },
          "metadata": {
            "tags": []
          },
          "execution_count": 20
        }
      ]
    },
    {
      "cell_type": "markdown",
      "metadata": {
        "id": "ZfzYcb_C8wst",
        "colab_type": "text"
      },
      "source": [
        "Now we can make the Ayush and Aditya class inherit from the Vehicle class by replacing object in the line class Ayush(object). The class in parenthesis is the class that is inherited from (object essentially means \"no inheritance\")"
      ]
    },
    {
      "cell_type": "code",
      "metadata": {
        "id": "UXEdti8B8Zbl",
        "colab_type": "code",
        "colab": {}
      },
      "source": [
        "class Ayush(Student):\n",
        "   def __init__(self, name,bits_id,branch,year_of_joining,campus):\n",
        "        \"\"\"Return a new Vehicle object.\"\"\"\n",
        "        self.name=name\n",
        "        self.bits_id=bits_id\n",
        "        self.branch=branch\n",
        "        self.year_of_joining=year_of_joining\n",
        "        self.campus=campus"
      ],
      "execution_count": 0,
      "outputs": []
    },
    {
      "cell_type": "code",
      "metadata": {
        "id": "pDJQcbFi9WLP",
        "colab_type": "code",
        "colab": {}
      },
      "source": [
        "A=Ayush(\"Ayush\",\"0684\",\"B5\",\"2018\",\"G\")"
      ],
      "execution_count": 0,
      "outputs": []
    },
    {
      "cell_type": "code",
      "metadata": {
        "id": "fXWtzu-Y9Yau",
        "colab_type": "code",
        "outputId": "93cf796b-81dc-4a08-ba8d-4ed8de411bbe",
        "colab": {
          "base_uri": "https://localhost:8080/",
          "height": 34
        }
      },
      "source": [
        "A.Generate_ID_number()"
      ],
      "execution_count": 0,
      "outputs": [
        {
          "output_type": "execute_result",
          "data": {
            "text/plain": [
              "'2018B5PS0684G'"
            ]
          },
          "metadata": {
            "tags": []
          },
          "execution_count": 25
        }
      ]
    },
    {
      "cell_type": "markdown",
      "metadata": {
        "id": "kONYwKlCBacz",
        "colab_type": "text"
      },
      "source": [
        "Abstraction: Abstraction means showing essential features and hiding non-essential features to the user.\n",
        "We simply use Abstract Base Classes for Inheritance but they can't be instantiated themselves."
      ]
    },
    {
      "cell_type": "markdown",
      "metadata": {
        "id": "sZ4-KwizC_za",
        "colab_type": "text"
      },
      "source": [
        "Let\"s understand this concept using a class called vehicles.\n",
        "The abc module contains a metaclass called ABCMeta.\n",
        "A virtual method is one that the ABC says must exist in child classes, but doesn't necessarily actually implement."
      ]
    },
    {
      "cell_type": "code",
      "metadata": {
        "id": "CuTO4mZm9tn9",
        "colab_type": "code",
        "colab": {}
      },
      "source": [
        "from abc import ABCMeta, abstractmethod\n",
        "\n",
        "class Vehicle(object):\n",
        "    \"\"\"A vehicle for sale by Jeffco Car Dealership.\n",
        "\n",
        "\n",
        "    Attributes:\n",
        "        wheels: An integer representing the number of wheels the vehicle has.\n",
        "        miles: The integral number of miles driven on the vehicle.\n",
        "        make: The make of the vehicle as a string.\n",
        "        model: The model of the vehicle as a string.\n",
        "        year: The integral year the vehicle was built.\n",
        "        sold_on: The date the vehicle was sold.\n",
        "    \"\"\"\n",
        "\n",
        "    __metaclass__ = ABCMeta\n",
        "\n",
        "    base_sale_price = 0\n",
        "\n",
        "    def sale_price(self):\n",
        "        \"\"\"Return the sale price for this vehicle as a float amount.\"\"\"\n",
        "        if self.sold_on is not None:\n",
        "            return 0.0  # Already sold\n",
        "        return 5000.0 * self.wheels\n",
        "\n",
        "    def purchase_price(self):\n",
        "        \"\"\"Return the price for which we would pay to purchase the vehicle.\"\"\"\n",
        "        if self.sold_on is None:\n",
        "            return 0.0  # Not yet sold\n",
        "        return self.base_sale_price - (.10 * self.miles)\n",
        "\n",
        "    @abstractmethod\n",
        "    def vehicle_type():\n",
        "        \"\"\"\"Return a string representing the type of vehicle this is.\"\"\"\n",
        "        pass"
      ],
      "execution_count": 0,
      "outputs": []
    },
    {
      "cell_type": "code",
      "metadata": {
        "id": "cTm4Tph5Dhfd",
        "colab_type": "code",
        "colab": {}
      },
      "source": [
        "# The @xxxxx is called Decorator"
      ],
      "execution_count": 0,
      "outputs": []
    },
    {
      "cell_type": "markdown",
      "metadata": {
        "id": "T4v0MzRlDtEu",
        "colab_type": "text"
      },
      "source": [
        "Now, since vehicle_type is an abstractmethod, we can't directly create an instance of Vehicle. As long as Car and Truck inherit from Vehicle and define vehicle_type, we can instantiate those classes just fine."
      ]
    },
    {
      "cell_type": "code",
      "metadata": {
        "id": "Wc-W7-IwDtis",
        "colab_type": "code",
        "colab": {}
      },
      "source": [
        "class Car(Vehicle):\n",
        "    \"\"\"A car for sale by Jeffco Car Dealership.\"\"\"\n",
        "\n",
        "    base_sale_price = 8000\n",
        "    wheels = 4\n",
        "\n",
        "    def vehicle_type(self):\n",
        "        \"\"\"\"Return a string representing the type of vehicle this is.\"\"\"\n",
        "        return 'car'"
      ],
      "execution_count": 0,
      "outputs": []
    },
    {
      "cell_type": "markdown",
      "metadata": {
        "id": "dX4nLH7iEEQc",
        "colab_type": "text"
      },
      "source": [
        "# Polymorphism :\n",
        "\n"
      ]
    },
    {
      "cell_type": "markdown",
      "metadata": {
        "id": "GsCZeXoOEIsz",
        "colab_type": "text"
      },
      "source": [
        "Polymorphism means ability to take more than one form that an operation can exhibit different behavior at different instance depend upon the data passed in the operation.\n",
        "\n"
      ]
    },
    {
      "cell_type": "markdown",
      "metadata": {
        "id": "uXuqRpmSEPVZ",
        "colab_type": "text"
      },
      "source": [
        "For Example: A person exhibits different behaviour at different times"
      ]
    },
    {
      "cell_type": "code",
      "metadata": {
        "id": "uVAxPtGlD1a8",
        "colab_type": "code",
        "outputId": "cda9708b-7851-473b-d7b0-5b370e4af3d3",
        "colab": {
          "base_uri": "https://localhost:8080/",
          "height": 52
        }
      },
      "source": [
        "class Me_at_home:\n",
        "\n",
        "    def Silent(self):\n",
        "        print(\"I am silent at home\")\n",
        "    \n",
        "    def Talks_shit(self):\n",
        "        print(\"I don't talk shit at home\")\n",
        "\n",
        "class Me_outside:\n",
        "\n",
        "    def Silent(self):\n",
        "        print(\"I am never silent outside\")\n",
        "    \n",
        "    def Talks_shit(self):\n",
        "        print(\"I always talks shit outside\")\n",
        "\n",
        "# common interface\n",
        "def test(place):\n",
        "    place.Talks_shit()\n",
        "\n",
        "#instantiate objects\n",
        "A1 = Me_at_home()\n",
        "A2=Me_outside()\n",
        "\n",
        "# passing the object\n",
        "test(A1)\n",
        "test(A2)"
      ],
      "execution_count": 0,
      "outputs": [
        {
          "output_type": "stream",
          "text": [
            "I don't talk shit at home\n",
            "I always talks shit outside\n"
          ],
          "name": "stdout"
        }
      ]
    },
    {
      "cell_type": "markdown",
      "metadata": {
        "id": "MgjlFUghFai9",
        "colab_type": "text"
      },
      "source": [
        "In the above program, we defined two classes Me_at_home and Me_outside. Each of them have common method Talks_shit method. However, their functions are different. To allow polymorphism, we created common interface i.e test() function that can take any object. Then, we passed the objects A1 and A2 in the test() function, it ran effectively.\n",
        "\n"
      ]
    },
    {
      "cell_type": "code",
      "metadata": {
        "id": "4-SEcof6FbV4",
        "colab_type": "code",
        "colab": {}
      },
      "source": [
        ""
      ],
      "execution_count": 0,
      "outputs": []
    }
  ]
}